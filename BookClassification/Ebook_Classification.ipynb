{
 "cells": [
  {
   "cell_type": "markdown",
   "metadata": {},
   "source": [
    "## Imports"
   ]
  },
  {
   "cell_type": "code",
   "execution_count": 1,
   "metadata": {},
   "outputs": [],
   "source": [
    "import pandas as pd\n",
    "import numpy as np\n",
    "\n",
    "import torch\n",
    "from torch import nn\n",
    "from torch.optim import Adam\n",
    "from tqdm import tqdm\n",
    "\n",
    "from transformers import BertTokenizer\n",
    "from transformers import BertModel"
   ]
  },
  {
   "cell_type": "markdown",
   "metadata": {},
   "source": [
    "## Load BERT Model from PT File"
   ]
  },
  {
   "cell_type": "code",
   "execution_count": 3,
   "metadata": {},
   "outputs": [
    {
     "name": "stdout",
     "output_type": "stream",
     "text": [
      "mps\n"
     ]
    }
   ],
   "source": [
    "if torch.has_mps:\n",
    "    device = 'mps'\n",
    "else:\n",
    "    device = 'cpu'\n",
    "\n",
    "print(device)"
   ]
  },
  {
   "cell_type": "code",
   "execution_count": 34,
   "metadata": {},
   "outputs": [
    {
     "name": "stdout",
     "output_type": "stream",
     "text": [
      "Trash\n",
      "657\n"
     ]
    }
   ],
   "source": [
    "train_data_path = 'Data/BF_Single_Subject_Clean_Call_Number.csv'\n",
    "df = pd.read_csv(train_data_path, sep='\\t')\n",
    "df = df.drop(\"Unnamed: 0\", axis=1)\n",
    "\n",
    "\n",
    "\n",
    "# Hardcoded fix\n",
    "for i, row in df.iterrows():\n",
    "  if row['Call_Number'] == '724.55.C63':\n",
    "    print(\"Trash\")\n",
    "    df.at[i, 'Call_Number'] = '724'\n",
    "\n",
    "\n",
    "vals = pd.unique(df['Call_Number'])\n",
    "print(len(vals))\n",
    "labels = {key: value for (key, value) in enumerate(vals)}"
   ]
  },
  {
   "cell_type": "code",
   "execution_count": 35,
   "metadata": {},
   "outputs": [
    {
     "name": "stdout",
     "output_type": "stream",
     "text": [
      "{0: '174', 1: '1583', 2: '76.5', 3: '636', 4: '175.5', 5: '121', 6: '723', 7: '1598', 8: '210', 9: '870', 10: '711', 11: '698.5', 12: '201', 13: '323', 14: '311', 15: '713', 16: '319', 17: '431', 18: '176', 19: '637', 20: '18.02', 21: '175', 22: '633', 23: '632.5', 24: '1576', 25: '173', 26: '710', 27: '698', 28: '378', 29: '697', 30: '1325', 31: '408', 32: '432', 33: '113', 34: '325', 35: '448', 36: '639', 37: '295', 38: '371', 39: '207', 40: '721', 41: '1593', 42: '692.2', 43: '1407', 44: '724', 45: '575', 46: '318', 47: '1779', 48: '341', 49: '1999', 50: '692.5', 51: '162', 52: '39', 53: '321', 54: '441', 55: '38', 56: '714', 57: '1622', 58: '447', 59: '109', 60: '76.4', 61: '1791', 62: '241', 63: '1611', 64: '698.3', 65: '316.6', 66: '1561', 67: '105', 68: '315', 69: '701', 70: '335', 71: '698.95', 72: '455', 73: '1793', 74: '201.3', 75: '38.5', 76: '724.3', 77: '1434', 78: '233', 79: '774', 80: '720', 81: '717', 82: '458', 83: '531', 84: '81', 85: '31', 86: '1591', 87: '39.9', 88: '1241', 89: '1714', 90: '698.8', 91: '318.5', 92: '692', 93: '503', 94: '18.022', 95: '412', 96: '1031', 97: '1141', 98: '698.4', 99: '1584', 100: '346', 101: '1261.2', 102: '511', 103: '1242', 104: '1729', 105: '1623', 106: '1701', 107: '671', 108: '242', 109: '319.5', 110: '171', 111: '1559', 112: '175.4', 113: '1556', 114: '1472', 115: '1534', 116: '1028.5', 117: '204', 118: '449', 119: '1520', 120: '724.5', 121: '367', 122: '683', 123: '161', 124: '1581', 125: '468', 126: '199', 127: '1567', 128: '1566', 129: '722', 130: '697.5', 131: '1301', 132: '293', 133: '77', 134: '611', 135: '416', 136: '1078', 137: '445', 138: '444', 139: '209', 140: '1042', 141: '125', 142: '1671', 143: '353', 144: '1548', 145: '456', 146: '1275', 147: '108', 148: '1615', 149: '1770', 150: '76', 151: '724.55', 152: '1321', 153: '724.8', 154: '719', 155: '1762', 156: '871', 157: '1681', 158: '713.5', 159: '1571', 160: '469', 161: '905', 162: '57', 163: '481', 164: '724.85', 165: '182', 166: '1546', 167: '1517', 168: '431.5', 169: '423', 170: '1045', 171: '636.6', 172: '636.64', 173: '95', 174: '1571.5', 175: '1768', 176: '818', 177: '51', 178: '1021', 179: '1385', 180: '80.8', 181: '198.7', 182: '1152', 183: '411', 184: '632', 185: '204.5', 186: '376', 187: '21', 188: '789', 189: '1283', 190: '1411', 191: '442', 192: '1558', 193: '204.6', 194: '773', 195: '698.9', 196: '698.7', 197: '1589', 198: '41', 199: '1261', 200: '237', 201: '128', 202: '1311', 203: '353.5', 204: '1676', 205: '1815', 206: '317', 207: '898', 208: '315.5', 209: '1531', 210: '1555', 211: '1773.2', 212: '181', 213: '149', 214: '1051', 215: '638', 216: '88', 217: '1775', 218: '719.5', 219: '76.7', 220: '1613', 221: '1091', 222: '435', 223: '131', 224: '505', 225: '1761', 226: '1389', 227: '1575', 228: '1765', 229: '868', 230: '204.7', 231: '385', 232: '314', 233: '1468', 234: '724.6', 235: '433', 236: '76.6', 237: '327', 238: '183', 239: '365', 240: '123', 241: '2050', 242: '636.7', 243: '1281', 244: '640', 245: '432.5', 246: '39.5', 247: '1724', 248: '809.8', 249: '619.5', 250: '798', 251: '395', 252: '504', 253: '76.8', 254: '1251', 255: '200', 256: '1425', 257: '495', 258: '122', 259: '463', 260: '1098', 261: '1601', 262: '251', 263: '1674', 264: '552', 265: '1025', 266: '1175', 267: '1439', 268: '1522', 269: '1040', 270: '1582', 271: '708', 272: '152', 273: '231', 274: '370', 275: '151', 276: '1503', 277: '1099', 278: '316', 279: '1142', 280: '261', 281: '851', 282: '1777', 283: '357', 284: '576', 285: '1569', 286: '275', 287: '1752', 288: '636.67', 289: '561', 290: '426', 291: '176.5', 292: '110', 293: '698.35', 294: '1868', 295: '1718', 296: '636.3', 297: '1032', 298: '1854', 299: '103', 300: '1563', 301: '64', 302: '1600', 303: '833', 304: '636.68', 305: '1771', 306: '1708.1', 307: '1027', 308: '1573', 309: '201.4', 310: '1565', 311: '635', 312: '245', 313: '133', 314: '1071', 315: '443', 316: '118', 317: '703', 318: '39.2', 319: '1127', 320: '1711', 321: '1795', 322: '591', 323: '80.7', 324: '551', 325: '621', 326: '175.45', 327: '1156', 328: '619', 329: '1462', 330: '75', 331: '449.5', 332: '1728', 333: '11', 334: '1751', 335: '673', 336: '648', 337: '722.3', 338: '928', 339: '482', 340: '1997', 341: '869', 342: '662', 343: '592', 344: '832', 345: '1586', 346: '1879', 347: '175.7', 348: '908', 349: '1612', 350: '39.4', 351: '515', 352: '22', 353: '474', 354: '76.3', 355: '313', 356: '20', 357: '588', 358: '698.2', 359: '471', 360: '203', 361: '778', 362: '1708.2', 363: '727', 364: '724.65', 365: '30', 366: '1683', 367: '1033', 368: '98', 369: '467', 370: '446', 371: '1805', 372: '622', 373: '1404', 374: '712.7', 375: '761', 376: '437', 377: '111', 378: '1429', 379: '891', 380: '731', 381: '56', 382: '40', 383: '1655', 384: '337', 385: '44', 386: '114', 387: '1410', 388: '1171', 389: '755', 390: '630', 391: '645', 392: '734', 393: '1504', 394: '1769', 395: '1679', 396: '145', 397: '141', 398: '176.2', 399: '1713', 400: '172', 401: '475', 402: '1588', 403: '174.4', 404: '1572', 405: '91', 406: '1290', 407: '163', 408: '641', 409: '702', 410: '1413', 411: '1680', 412: '1602', 413: '202', 414: '623', 415: '140', 416: '1412', 417: '1685', 418: '23', 419: '1874', 420: '39.3', 421: '1461', 422: '432.3', 423: '859', 424: '1463', 425: '1331', 426: '565', 427: '32', 428: '1003', 429: '1408.2', 430: '1552', 431: '1702', 432: '1029', 433: '1994', 434: '1038', 435: '1651', 436: '78', 437: '1040.5', 438: '1305', 439: '1408', 440: '1618', 441: '1409', 442: '1861', 443: '1421', 444: '1473', 445: '1445', 446: '1792', 447: '1628', 448: '1878', 449: '1597', 450: '1521', 451: '1533', 452: '1505', 453: '1501', 454: '1691', 455: '1661', 456: '1715', 457: '921', 458: '1291', 459: '1262', 460: '1228', 461: '1272', 462: '1277', 463: '1235', 464: '1378', 465: '1125', 466: '831', 467: '1786', 468: '892', 469: '1343', 470: '893', 471: '852', 472: '187', 473: '573', 474: '1075', 475: '521', 476: '1416', 477: '879', 478: '1721', 479: '1023', 480: '191', 481: '712.5', 482: '1595', 483: '7271', 484: '1442', 485: '853', 486: '885', 487: '1288', 488: '67', 489: '139', 490: '699', 491: '79', 492: '685', 493: '1475', 494: '192', 495: '39.8', 496: '292', 497: '1812', 498: '940', 499: '563', 500: '533', 501: '320', 502: '381', 503: '309', 504: '613', 505: '625', 506: '1211', 507: '825', 508: '1068', 509: '1146', 510: '1143', 511: '1132', 512: '1131', 513: '6985', 514: '188', 515: '418', 516: '733', 517: '732', 518: '751', 519: '676', 520: '672', 521: '1', 522: '634', 523: '1773', 524: '1080', 525: '410', 526: '501', 527: '1028', 528: '1026', 529: '1263', 530: '1471', 531: '1577', 532: '47', 533: '491', 534: '315.2', 535: '595', 536: '592.5', 537: '1052', 538: '582', 539: '1809', 540: '1708.8', 541: '76.72', 542: '605', 543: '693', 544: '1339', 545: '17', 546: '753', 547: '1708.5', 548: '13', 549: '1414', 550: '578', 551: '80.7.A7', 552: '1726', 553: '532', 554: '1596', 555: '1750', 556: '724.2', 557: '1286', 558: '80.7.A78', 559: '663', 560: '501.5', 561: '184', 562: '721.3', 563: '1587', 564: '1679.8', 565: '1621', 566: '150', 567: '1723', 568: '93', 569: '205', 570: '1265', 571: '719.6', 572: '241.7', 573: '375', 574: '112', 575: '858', 576: '294', 577: '93.2', 578: '299', 579: '746', 580: '1758', 581: '698.6', 582: '1550', 583: '107', 584: '132', 585: '1785', 586: '1371', 587: '1553', 588: '636.65', 589: '712', 590: '692.15', 591: '698.55', 592: '1466', 593: '243', 594: '844', 595: '251.6', 596: '1083', 597: '190', 598: '271', 599: '1578', 600: '317.5', 601: '1717.5', 602: '79.5', 603: '1095', 604: '127', 605: '538', 606: '201.5', 607: '811', 608: '1523', 609: '1603', 610: '1381', 611: '901', 612: '724.25', 613: '604', 614: '1444', 615: '692.9', 616: '1801', 617: '505.6', 618: '76.45', 619: '783', 620: '497', 621: '740', 622: '86', 623: '1405', 624: '1030', 625: '1483', 626: '1628.3', 627: '1608', 628: '1716', 629: '1001', 630: '1347', 631: '1352', 632: '1418', 633: '1213', 634: '1092', 635: '821', 636: '431.3', 637: '775', 638: '149.8', 639: '138', 640: '126', 641: '660', 642: '285', 643: '186', 644: '935', 645: '351', 646: '620', 647: '380', 648: '1148', 649: '1121', 650: '1128', 651: '728', 652: '115', 653: '4705', 654: '647', 655: '1891', 656: '1524'}\n"
     ]
    }
   ],
   "source": [
    "print(labels)"
   ]
  },
  {
   "cell_type": "code",
   "execution_count": 7,
   "metadata": {},
   "outputs": [
    {
     "name": "stdout",
     "output_type": "stream",
     "text": [
      "['174' '1583' '76.5' '636' '175.5' '121' '723' '1598' '210' '870' '711'\n",
      " '698.5' '201' '323' '311' '713' '319' '431' '176' '637' '18.02' '175'\n",
      " '633' '632.5' '1576' '173' '710' '698' '378' '697' '1325' '408' '432'\n",
      " '113' '325' '448' '639' '295' '371' '207' '721' '1593' '692.2' '1407'\n",
      " '724' '575' '318' '1779' '341' '1999' '692.5' '162' '39' '321' '441' '38'\n",
      " '714' '1622' '447' '109' '76.4' '1791' '241' '1611' '698.3' '316.6'\n",
      " '1561' '105' '315' '701' '335' '698.95' '455' '1793' '201.3' '38.5'\n",
      " '724.3' '1434' '233' '774' '720' '717' '458' '531' '81' '31' '1591'\n",
      " '39.9' '1241' '1714' '698.8' '318.5' '692' '503' '18.022' '412' '1031'\n",
      " '1141' '698.4' '1584' '346' '1261.2' '511' '1242' '1729' '1623' '1701'\n",
      " '671' '242' '319.5' '171' '1559' '175.4' '1556' '1472' '1534' '1028.5'\n",
      " '204' '449' '1520' '724.5' '367' '683' '161' '1581' '468' '199' '1567'\n",
      " '1566' '722' '697.5' '1301' '293' '77' '611' '416' '1078' '445' '444'\n",
      " '209' '1042' '125' '1671' '353' '1548' '456' '1275' '108' '1615' '1770'\n",
      " '76' '724.55' '1321' '724.8' '719' '1762' '871' '1681' '713.5' '1571'\n",
      " '469' '905' '57' '481' '724.85' '182' '1546' '1517' '431.5' '423' '1045'\n",
      " '636.6' '636.64' '95' '1571.5' '1768' '818' '51' '1021' '1385' '80.8'\n",
      " '198.7' '1152' '411' '632' '204.5' '376' '21' '789' '1283' '1411' '442'\n",
      " '1558' '204.6' '773' '698.9' '698.7' '1589' '41' '1261' '237' '128'\n",
      " '1311' '353.5' '1676' '1815' '317' '898' '315.5' '1531' '1555' '1773.2'\n",
      " '181' '149' '1051' '638' '88' '1775' '719.5' '76.7' '1613' '1091' '435'\n",
      " '131' '505' '1761' '1389' '1575' '1765' '868' '204.7' '385' '314' '1468'\n",
      " '724.6' '433' '76.6' '327' '183' '365' '123' '2050' '636.7' '1281' '640'\n",
      " '432.5' '39.5' '1724' '809.8' '619.5' '798' '395' '504' '76.8' '1251'\n",
      " '200' '1425' '495' '122' '463' '1098' '1601' '251' '1674' '552' '1025'\n",
      " '1175' '1439' '1522' '1040' '1582' '708' '152' '231' '370' '151' '1503'\n",
      " '1099' '316' '1142' '261' '851' '1777' '357' '576' '1569' '275' '1752'\n",
      " '636.67' '561' '426' '176.5' '110' '698.35' '1868' '1718' '636.3' '1032'\n",
      " '1854' '103' '1563' '64' '1600' '833' '636.68' '1771' '1708.1' '1027'\n",
      " '1573' '201.4' '1565' '635' '245' '133' '1071' '443' '118' '703' '39.2'\n",
      " '1127' '1711' '1795' '591' '80.7' '551' '621' '175.45' '1156' '619'\n",
      " '1462' '75' '449.5' '1728' '11' '1751' '673' '648' '722.3' '928' '482'\n",
      " '1997' '869' '662' '592' '832' '1586' '1879' '175.7' '908' '1612' '39.4'\n",
      " '515' '22' '474' '76.3' '313' '20' '588' '698.2' '471' '203' '778'\n",
      " '1708.2' '727' '724.65' '30' '1683' '1033' '98' '467' '446' '1805' '622'\n",
      " '1404' '712.7' '761' '437' '111' '1429' '891' '731' '56' '40' '1655'\n",
      " '337' '44' '114' '1410' '1171' '755' '630' '645' '734' '1504' '1769'\n",
      " '1679' '145' '141' '176.2' '1713' '172' '475' '1588' '174.4' '1572' '91'\n",
      " '1290' '163' '641' '702' '1413' '1680' '1602' '202' '623' '140' '1412'\n",
      " '1685' '23' '1874' '39.3' '1461' '432.3' '859' '1463' '1331' '565' '32'\n",
      " '1003' '1408.2' '1552' '1702' '1029' '1994' '1038' '1651' '78' '1040.5'\n",
      " '1305' '1408' '1618' '1409' '1861' '1421' '1473' '1445' '1792' '1628'\n",
      " '1878' '1597' '1521' '1533' '1505' '1501' '1691' '1661' '1715' '921'\n",
      " '1291' '1262' '1228' '1272' '1277' '1235' '1378' '1125' '831' '1786'\n",
      " '892' '1343' '893' '852' '187' '573' '1075' '521' '1416' '879' '1721'\n",
      " '1023' '191' '712.5' '1595' '7271' '1442' '853' '885' '1288' '67' '139'\n",
      " '699' '79' '685' '1475' '192' '39.8' '292' '1812' '940' '563' '533' '320'\n",
      " '381' '309' '613' '625' '1211' '825' '1068' '1146' '1143' '1132' '1131'\n",
      " '6985' '188' '418' '733' '732' '751' '676' '672' '1' '634' '1773' '1080'\n",
      " '410' '501' '1028' '1026' '1263' '1471' '1577' '47' '491' '315.2' '595'\n",
      " '592.5' '1052' '582' '1809' '1708.8' '76.72' '605' '693' '1339' '17'\n",
      " '753' '1708.5' '13' '1414' '578' '80.7.A7' '1726' '532' '1596' '1750'\n",
      " '724.2' '1286' '80.7.A78' '663' '501.5' '184' '721.3' '1587' '1679.8'\n",
      " '1621' '150' '1723' '93' '205' '1265' '719.6' '241.7' '375' '112' '858'\n",
      " '294' '93.2' '299' '746' '1758' '698.6' '1550' '107' '132' '1785' '1371'\n",
      " '1553' '636.65' '712' '692.15' '698.55' '1466' '243' '844' '251.6' '1083'\n",
      " '190' '271' '1578' '317.5' '1717.5' '79.5' '1095' '127' '538' '201.5'\n",
      " '811' '1523' '1603' '1381' '901' '724.25' '604' '1444' '692.9' '1801'\n",
      " '505.6' '76.45' '783' '497' '740' '86' '1405' '1030' '1483' '1628.3'\n",
      " '1608' '1716' '1001' '1347' '1352' '1418' '1213' '1092' '821' '431.3'\n",
      " '775' '149.8' '138' '126' '660' '285' '186' '935' '351' '620' '380'\n",
      " '1148' '1121' '1128' '724.55.C63' '728' '115' '4705' '647' '1891' '1524']\n"
     ]
    }
   ],
   "source": [
    "print(vals)"
   ]
  },
  {
   "cell_type": "code",
   "execution_count": 5,
   "metadata": {},
   "outputs": [],
   "source": [
    "class BertClassifier(nn.Module):\n",
    "  def __init__(self, dropout=0.5):\n",
    "    super(BertClassifier, self).__init__()\n",
    "\n",
    "    self.bert = BertModel.from_pretrained('bert-base-cased')\n",
    "    self.dropout = nn.Dropout(dropout)\n",
    "    self.linear = nn.Linear(768, len(vals)) # Change depending on dataset size\n",
    "    self.relu = nn.ReLU()\n",
    "\n",
    "  def forward(self, input_id, mask):\n",
    "    _, pooled_output = self.bert(input_ids=input_id, attention_mask=mask, return_dict=False)\n",
    "    dropout_output = self.dropout(pooled_output)\n",
    "    linear_output = self.linear(dropout_output)\n",
    "    final_layer = self.relu(linear_output)\n",
    "\n",
    "    return final_layer"
   ]
  },
  {
   "cell_type": "code",
   "execution_count": 7,
   "metadata": {},
   "outputs": [],
   "source": [
    "tokenizer = BertTokenizer.from_pretrained('bert-base-cased')"
   ]
  },
  {
   "cell_type": "code",
   "execution_count": 19,
   "metadata": {},
   "outputs": [
    {
     "name": "stderr",
     "output_type": "stream",
     "text": [
      "Some weights of the model checkpoint at bert-base-cased were not used when initializing BertModel: ['cls.seq_relationship.bias', 'cls.predictions.transform.LayerNorm.bias', 'cls.predictions.transform.dense.weight', 'cls.predictions.transform.dense.bias', 'cls.predictions.decoder.weight', 'cls.seq_relationship.weight', 'cls.predictions.bias', 'cls.predictions.transform.LayerNorm.weight']\n",
      "- This IS expected if you are initializing BertModel from the checkpoint of a model trained on another task or with another architecture (e.g. initializing a BertForSequenceClassification model from a BertForPreTraining model).\n",
      "- This IS NOT expected if you are initializing BertModel from the checkpoint of a model that you expect to be exactly identical (initializing a BertForSequenceClassification model from a BertForSequenceClassification model).\n"
     ]
    },
    {
     "data": {
      "text/plain": [
       "<All keys matched successfully>"
      ]
     },
     "execution_count": 19,
     "metadata": {},
     "output_type": "execute_result"
    }
   ],
   "source": [
    "model_path = \"Models/BERT_Classifier_25_epochs_subjects_clean.pt\"\n",
    "\n",
    "model = BertClassifier()\n",
    "model.load_state_dict(torch.load(model_path, map_location=torch.device('cpu')))"
   ]
  },
  {
   "cell_type": "markdown",
   "metadata": {},
   "source": [
    "## Load EBook Data"
   ]
  },
  {
   "cell_type": "code",
   "execution_count": 11,
   "metadata": {},
   "outputs": [
    {
     "ename": "UnicodeDecodeError",
     "evalue": "'utf-8' codec can't decode byte 0xe1 in position 1385: invalid continuation byte",
     "output_type": "error",
     "traceback": [
      "\u001b[0;31m---------------------------------------------------------------------------\u001b[0m",
      "\u001b[0;31mUnicodeDecodeError\u001b[0m                        Traceback (most recent call last)",
      "\u001b[1;32m/Users/gregoryknapp/Desktop/BookshelfProject/BookClassification/Ebook_Classification.ipynb Cell 11'\u001b[0m in \u001b[0;36m<cell line: 2>\u001b[0;34m()\u001b[0m\n\u001b[1;32m      <a href='vscode-notebook-cell:/Users/gregoryknapp/Desktop/BookshelfProject/BookClassification/Ebook_Classification.ipynb#ch0000002?line=0'>1</a>\u001b[0m ebook_path \u001b[39m=\u001b[39m \u001b[39m'\u001b[39m\u001b[39mData/EbookListforALA.csv\u001b[39m\u001b[39m'\u001b[39m\n\u001b[0;32m----> <a href='vscode-notebook-cell:/Users/gregoryknapp/Desktop/BookshelfProject/BookClassification/Ebook_Classification.ipynb#ch0000002?line=1'>2</a>\u001b[0m ebook_df \u001b[39m=\u001b[39m pd\u001b[39m.\u001b[39;49mread_csv(ebook_path)\n\u001b[1;32m      <a href='vscode-notebook-cell:/Users/gregoryknapp/Desktop/BookshelfProject/BookClassification/Ebook_Classification.ipynb#ch0000002?line=2'>3</a>\u001b[0m ebook_df \u001b[39m=\u001b[39m df\u001b[39m.\u001b[39mdrop(\u001b[39m\"\u001b[39m\u001b[39mUnnamed: 0\u001b[39m\u001b[39m\"\u001b[39m, axis\u001b[39m=\u001b[39m\u001b[39m1\u001b[39m)\n\u001b[1;32m      <a href='vscode-notebook-cell:/Users/gregoryknapp/Desktop/BookshelfProject/BookClassification/Ebook_Classification.ipynb#ch0000002?line=3'>4</a>\u001b[0m ebook_df\u001b[39m.\u001b[39mhead()\n",
      "File \u001b[0;32m/opt/homebrew/Caskroom/miniforge/base/envs/ml/lib/python3.9/site-packages/pandas/util/_decorators.py:311\u001b[0m, in \u001b[0;36mdeprecate_nonkeyword_arguments.<locals>.decorate.<locals>.wrapper\u001b[0;34m(*args, **kwargs)\u001b[0m\n\u001b[1;32m    305\u001b[0m \u001b[39mif\u001b[39;00m \u001b[39mlen\u001b[39m(args) \u001b[39m>\u001b[39m num_allow_args:\n\u001b[1;32m    306\u001b[0m     warnings\u001b[39m.\u001b[39mwarn(\n\u001b[1;32m    307\u001b[0m         msg\u001b[39m.\u001b[39mformat(arguments\u001b[39m=\u001b[39marguments),\n\u001b[1;32m    308\u001b[0m         \u001b[39mFutureWarning\u001b[39;00m,\n\u001b[1;32m    309\u001b[0m         stacklevel\u001b[39m=\u001b[39mstacklevel,\n\u001b[1;32m    310\u001b[0m     )\n\u001b[0;32m--> 311\u001b[0m \u001b[39mreturn\u001b[39;00m func(\u001b[39m*\u001b[39;49margs, \u001b[39m*\u001b[39;49m\u001b[39m*\u001b[39;49mkwargs)\n",
      "File \u001b[0;32m/opt/homebrew/Caskroom/miniforge/base/envs/ml/lib/python3.9/site-packages/pandas/io/parsers/readers.py:680\u001b[0m, in \u001b[0;36mread_csv\u001b[0;34m(filepath_or_buffer, sep, delimiter, header, names, index_col, usecols, squeeze, prefix, mangle_dupe_cols, dtype, engine, converters, true_values, false_values, skipinitialspace, skiprows, skipfooter, nrows, na_values, keep_default_na, na_filter, verbose, skip_blank_lines, parse_dates, infer_datetime_format, keep_date_col, date_parser, dayfirst, cache_dates, iterator, chunksize, compression, thousands, decimal, lineterminator, quotechar, quoting, doublequote, escapechar, comment, encoding, encoding_errors, dialect, error_bad_lines, warn_bad_lines, on_bad_lines, delim_whitespace, low_memory, memory_map, float_precision, storage_options)\u001b[0m\n\u001b[1;32m    665\u001b[0m kwds_defaults \u001b[39m=\u001b[39m _refine_defaults_read(\n\u001b[1;32m    666\u001b[0m     dialect,\n\u001b[1;32m    667\u001b[0m     delimiter,\n\u001b[0;32m   (...)\u001b[0m\n\u001b[1;32m    676\u001b[0m     defaults\u001b[39m=\u001b[39m{\u001b[39m\"\u001b[39m\u001b[39mdelimiter\u001b[39m\u001b[39m\"\u001b[39m: \u001b[39m\"\u001b[39m\u001b[39m,\u001b[39m\u001b[39m\"\u001b[39m},\n\u001b[1;32m    677\u001b[0m )\n\u001b[1;32m    678\u001b[0m kwds\u001b[39m.\u001b[39mupdate(kwds_defaults)\n\u001b[0;32m--> 680\u001b[0m \u001b[39mreturn\u001b[39;00m _read(filepath_or_buffer, kwds)\n",
      "File \u001b[0;32m/opt/homebrew/Caskroom/miniforge/base/envs/ml/lib/python3.9/site-packages/pandas/io/parsers/readers.py:575\u001b[0m, in \u001b[0;36m_read\u001b[0;34m(filepath_or_buffer, kwds)\u001b[0m\n\u001b[1;32m    572\u001b[0m _validate_names(kwds\u001b[39m.\u001b[39mget(\u001b[39m\"\u001b[39m\u001b[39mnames\u001b[39m\u001b[39m\"\u001b[39m, \u001b[39mNone\u001b[39;00m))\n\u001b[1;32m    574\u001b[0m \u001b[39m# Create the parser.\u001b[39;00m\n\u001b[0;32m--> 575\u001b[0m parser \u001b[39m=\u001b[39m TextFileReader(filepath_or_buffer, \u001b[39m*\u001b[39;49m\u001b[39m*\u001b[39;49mkwds)\n\u001b[1;32m    577\u001b[0m \u001b[39mif\u001b[39;00m chunksize \u001b[39mor\u001b[39;00m iterator:\n\u001b[1;32m    578\u001b[0m     \u001b[39mreturn\u001b[39;00m parser\n",
      "File \u001b[0;32m/opt/homebrew/Caskroom/miniforge/base/envs/ml/lib/python3.9/site-packages/pandas/io/parsers/readers.py:933\u001b[0m, in \u001b[0;36mTextFileReader.__init__\u001b[0;34m(self, f, engine, **kwds)\u001b[0m\n\u001b[1;32m    930\u001b[0m     \u001b[39mself\u001b[39m\u001b[39m.\u001b[39moptions[\u001b[39m\"\u001b[39m\u001b[39mhas_index_names\u001b[39m\u001b[39m\"\u001b[39m] \u001b[39m=\u001b[39m kwds[\u001b[39m\"\u001b[39m\u001b[39mhas_index_names\u001b[39m\u001b[39m\"\u001b[39m]\n\u001b[1;32m    932\u001b[0m \u001b[39mself\u001b[39m\u001b[39m.\u001b[39mhandles: IOHandles \u001b[39m|\u001b[39m \u001b[39mNone\u001b[39;00m \u001b[39m=\u001b[39m \u001b[39mNone\u001b[39;00m\n\u001b[0;32m--> 933\u001b[0m \u001b[39mself\u001b[39m\u001b[39m.\u001b[39m_engine \u001b[39m=\u001b[39m \u001b[39mself\u001b[39;49m\u001b[39m.\u001b[39;49m_make_engine(f, \u001b[39mself\u001b[39;49m\u001b[39m.\u001b[39;49mengine)\n",
      "File \u001b[0;32m/opt/homebrew/Caskroom/miniforge/base/envs/ml/lib/python3.9/site-packages/pandas/io/parsers/readers.py:1235\u001b[0m, in \u001b[0;36mTextFileReader._make_engine\u001b[0;34m(self, f, engine)\u001b[0m\n\u001b[1;32m   1232\u001b[0m     \u001b[39mraise\u001b[39;00m \u001b[39mValueError\u001b[39;00m(msg)\n\u001b[1;32m   1234\u001b[0m \u001b[39mtry\u001b[39;00m:\n\u001b[0;32m-> 1235\u001b[0m     \u001b[39mreturn\u001b[39;00m mapping[engine](f, \u001b[39m*\u001b[39;49m\u001b[39m*\u001b[39;49m\u001b[39mself\u001b[39;49m\u001b[39m.\u001b[39;49moptions)\n\u001b[1;32m   1236\u001b[0m \u001b[39mexcept\u001b[39;00m \u001b[39mException\u001b[39;00m:\n\u001b[1;32m   1237\u001b[0m     \u001b[39mif\u001b[39;00m \u001b[39mself\u001b[39m\u001b[39m.\u001b[39mhandles \u001b[39mis\u001b[39;00m \u001b[39mnot\u001b[39;00m \u001b[39mNone\u001b[39;00m:\n",
      "File \u001b[0;32m/opt/homebrew/Caskroom/miniforge/base/envs/ml/lib/python3.9/site-packages/pandas/io/parsers/c_parser_wrapper.py:75\u001b[0m, in \u001b[0;36mCParserWrapper.__init__\u001b[0;34m(self, src, **kwds)\u001b[0m\n\u001b[1;32m     72\u001b[0m     kwds\u001b[39m.\u001b[39mpop(key, \u001b[39mNone\u001b[39;00m)\n\u001b[1;32m     74\u001b[0m kwds[\u001b[39m\"\u001b[39m\u001b[39mdtype\u001b[39m\u001b[39m\"\u001b[39m] \u001b[39m=\u001b[39m ensure_dtype_objs(kwds\u001b[39m.\u001b[39mget(\u001b[39m\"\u001b[39m\u001b[39mdtype\u001b[39m\u001b[39m\"\u001b[39m, \u001b[39mNone\u001b[39;00m))\n\u001b[0;32m---> 75\u001b[0m \u001b[39mself\u001b[39m\u001b[39m.\u001b[39m_reader \u001b[39m=\u001b[39m parsers\u001b[39m.\u001b[39;49mTextReader(src, \u001b[39m*\u001b[39;49m\u001b[39m*\u001b[39;49mkwds)\n\u001b[1;32m     77\u001b[0m \u001b[39mself\u001b[39m\u001b[39m.\u001b[39munnamed_cols \u001b[39m=\u001b[39m \u001b[39mself\u001b[39m\u001b[39m.\u001b[39m_reader\u001b[39m.\u001b[39munnamed_cols\n\u001b[1;32m     79\u001b[0m \u001b[39m# error: Cannot determine type of 'names'\u001b[39;00m\n",
      "File \u001b[0;32m/opt/homebrew/Caskroom/miniforge/base/envs/ml/lib/python3.9/site-packages/pandas/_libs/parsers.pyx:544\u001b[0m, in \u001b[0;36mpandas._libs.parsers.TextReader.__cinit__\u001b[0;34m()\u001b[0m\n",
      "File \u001b[0;32m/opt/homebrew/Caskroom/miniforge/base/envs/ml/lib/python3.9/site-packages/pandas/_libs/parsers.pyx:633\u001b[0m, in \u001b[0;36mpandas._libs.parsers.TextReader._get_header\u001b[0;34m()\u001b[0m\n",
      "File \u001b[0;32m/opt/homebrew/Caskroom/miniforge/base/envs/ml/lib/python3.9/site-packages/pandas/_libs/parsers.pyx:847\u001b[0m, in \u001b[0;36mpandas._libs.parsers.TextReader._tokenize_rows\u001b[0;34m()\u001b[0m\n",
      "File \u001b[0;32m/opt/homebrew/Caskroom/miniforge/base/envs/ml/lib/python3.9/site-packages/pandas/_libs/parsers.pyx:1952\u001b[0m, in \u001b[0;36mpandas._libs.parsers.raise_parser_error\u001b[0;34m()\u001b[0m\n",
      "\u001b[0;31mUnicodeDecodeError\u001b[0m: 'utf-8' codec can't decode byte 0xe1 in position 1385: invalid continuation byte"
     ]
    }
   ],
   "source": [
    "## WIP There are various encoding errors in the dataset, maybe need to hand scrape myself\n",
    "\n",
    "ebook_path = 'Data/EbookListforALA.csv'\n",
    "ebook_df = pd.read_csv(ebook_path)\n",
    "ebook_df = df.drop(\"Unnamed: 0\", axis=1)\n",
    "ebook_df.head()"
   ]
  },
  {
   "cell_type": "code",
   "execution_count": 18,
   "metadata": {},
   "outputs": [],
   "source": [
    "header_in = 'Consciousness' #,e001,,\"Trauma and its impacts on temporal experience New perspectives from phenomenology and psychoanalysis\",\"Mezzalira, Selene\",2022,\"Psychic trauma, Time perception, Consciousness\",https://www.syndetics.com/index.php?isbn=100053166X/lc.jpg&client=sirsi,https://search.lib.byu.edu/byu/record/cat.7418121.item.7418121-1001?holding=4z8xrtkcbglsff40\n",
    "headers_in = \"Psychic trauma, Time perception, Consciousness\""
   ]
  },
  {
   "cell_type": "markdown",
   "metadata": {},
   "source": [
    "## Predict output and assign label"
   ]
  },
  {
   "cell_type": "code",
   "execution_count": 23,
   "metadata": {},
   "outputs": [],
   "source": [
    "#model.to(device)\n",
    "# TODO: Put this into a loop for each header from ebook dataset. Write output back to dataframe.\n",
    "\n",
    "tokenized = tokenizer(headers_in, padding='max_length',max_length=512, truncation=True,return_tensors=\"pt\")\n",
    "input_id = tokenized['input_ids']\n",
    "mask = tokenized['attention_mask']"
   ]
  },
  {
   "cell_type": "code",
   "execution_count": 25,
   "metadata": {},
   "outputs": [
    {
     "name": "stdout",
     "output_type": "stream",
     "text": [
      "torch.Size([1, 657])\n"
     ]
    }
   ],
   "source": [
    "output = model(input_id, mask)\n",
    "print(output.shape)"
   ]
  },
  {
   "cell_type": "code",
   "execution_count": 37,
   "metadata": {},
   "outputs": [
    {
     "name": "stdout",
     "output_type": "stream",
     "text": [
      "109\n"
     ]
    }
   ],
   "source": [
    "res = output.argmax(dim=1)\n",
    "print(labels[res.item()])"
   ]
  },
  {
   "cell_type": "code",
   "execution_count": null,
   "metadata": {},
   "outputs": [],
   "source": [
    "## TODO: Map to subject header gropus just for reference? someway to check if it looks right ish?"
   ]
  }
 ],
 "metadata": {
  "kernelspec": {
   "display_name": "Python 3.9.13 ('ml')",
   "language": "python",
   "name": "python3"
  },
  "language_info": {
   "codemirror_mode": {
    "name": "ipython",
    "version": 3
   },
   "file_extension": ".py",
   "mimetype": "text/x-python",
   "name": "python",
   "nbconvert_exporter": "python",
   "pygments_lexer": "ipython3",
   "version": "3.9.13"
  },
  "orig_nbformat": 4,
  "vscode": {
   "interpreter": {
    "hash": "08eac26dc1f80337b7d87e94e7159a5bad95c2e85f47efef91c61359b3afbfe9"
   }
  }
 },
 "nbformat": 4,
 "nbformat_minor": 2
}
