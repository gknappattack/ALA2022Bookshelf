{
  "cells": [
    {
      "cell_type": "markdown",
      "metadata": {
        "id": "YMPZauTZXaLO"
      },
      "source": [
        "# Make Necessary Imports"
      ]
    },
    {
      "cell_type": "code",
      "execution_count": null,
      "metadata": {
        "id": "j6-4_QrF38HT"
      },
      "outputs": [],
      "source": [
        "import pandas as pd\n",
        "from sklearn.model_selection import train_test_split\n",
        "import torch\n",
        "import torch.nn as nn\n",
        "import pandas as pd\n",
        "import numpy as np\n",
        "import re\n",
        "import spacy\n",
        "from collections import Counter\n",
        "from torch.utils.data import Dataset, DataLoader\n",
        "import torch.nn.functional as F\n",
        "import string\n",
        "from torch.nn.utils.rnn import pack_padded_sequence, pad_packed_sequence\n",
        "from sklearn.metrics import mean_squared_error\n",
        "import random"
      ]
    },
    {
      "cell_type": "markdown",
      "metadata": {
        "id": "tPCDK3eUXiVk"
      },
      "source": [
        "# Read Dataset from CSV and "
      ]
    },
    {
      "cell_type": "code",
      "execution_count": null,
      "metadata": {
        "id": "OY5izVRv6qz8"
      },
      "outputs": [],
      "source": [
        "raw_data_path = '/content/BF_Titles_And_Classifications_LOCAdjusted_v2.csv'\n",
        "destination_folder = '/content/drive/My Drive/lstm/Data'"
      ]
    },
    {
      "cell_type": "code",
      "execution_count": null,
      "metadata": {
        "id": "kLqYT0VXEqHT"
      },
      "outputs": [],
      "source": [
        "df_raw = pd.read_csv(raw_data_path)"
      ]
    },
    {
      "cell_type": "markdown",
      "metadata": {
        "id": "PkKLnZ-FWTBv"
      },
      "source": [
        "# Initialize Necessary Encoding Functions\n"
      ]
    },
    {
      "cell_type": "code",
      "execution_count": null,
      "metadata": {
        "id": "05sksvLKWTdn"
      },
      "outputs": [],
      "source": [
        "def encode_sentence(text, vocab2index, N=70):\n",
        "    tokenized = tokenize(text)\n",
        "    encoded = np.zeros(N, dtype=int)\n",
        "    enc1 = np.array([vocab2index.get(word, vocab2index[\"UNK\"]) for word in tokenized])\n",
        "    length = min(N, len(enc1))\n",
        "    encoded[:length] = enc1[:length]\n",
        "    return encoded, length"
      ]
    },
    {
      "cell_type": "code",
      "execution_count": null,
      "metadata": {
        "id": "ivbvqeIQW1sn"
      },
      "outputs": [],
      "source": [
        "tok = spacy.load('en')\n",
        "def tokenize (text):\n",
        "    text = re.sub(r\"[^\\x00-\\x7F]+\", \" \", text)\n",
        "    regex = re.compile('[' + re.escape(string.punctuation) + '0-9\\\\r\\\\t\\\\n]') # remove punctuation and numbers\n",
        "    nopunct = regex.sub(\" \", text.lower())\n",
        "    return [token.text for token in tok.tokenizer(nopunct)]"
      ]
    },
    {
      "cell_type": "markdown",
      "metadata": {
        "id": "5z3D6VLPW2Nh"
      },
      "source": [
        "# Clean up and encode dataset"
      ]
    },
    {
      "cell_type": "markdown",
      "metadata": {
        "id": "SltHN9vyW8zy"
      },
      "source": [
        "## Create labels to encoding dictionary before working with data"
      ]
    },
    {
      "cell_type": "code",
      "execution_count": null,
      "metadata": {
        "colab": {
          "base_uri": "https://localhost:8080/"
        },
        "id": "e23KzB-jMZv_",
        "outputId": "0795cb7e-4865-45a0-9954-a2477651c9bc"
      },
      "outputs": [
        {
          "name": "stdout",
          "output_type": "stream",
          "text": [
            "['BF1-37:Psychology' 'BF38-64:Philosophy' 'BF65-172:Psychology'\n",
            " 'BF173-175:Psychoanalysis' 'BF176:Pyshological tests and testing'\n",
            " 'BF180-198:Experimental psychology' 'BF199-202:Psychology'\n",
            " 'BF203:Gestalt psychology' 'BF204-206:Psychology'\n",
            " 'BF207-209:Psychotropic drugs and other substances'\n",
            " 'BF210-230:Psychology' 'BF231-299:Sensation. Aesthesiology'\n",
            " 'BF300-308:Psychology' 'BF309-499:Consciousness. Congition'\n",
            " 'BF501-505:Motivation' 'BF511-593:Affection. Feeling. Emotion'\n",
            " 'BF594-607:Psychology' 'BF608-635:Will. Volition. Choice. Control'\n",
            " 'BF636-637:Applied psychology'\n",
            " 'BF638-648:New Thought. Menticulture, etc.'\n",
            " 'BF660-685:Comparative psychology. Animal and human psychology'\n",
            " 'BF692:Psychology of Sex. Sexual Behavior' 'BF693-696:Psychology'\n",
            " 'BF697:Differential psychology. Individuality. Self' 'BF698:Personality'\n",
            " 'BF699-711:Genetic Psychology' 'BF712-724:Developmental psychology'\n",
            " 'BF725-727:Class psychology' 'BF728-794:Psychology'\n",
            " 'BF795-839:Temperament. Character' 'BF840-885:Physiognomy. Phrenology'\n",
            " 'BF889-905:Graphology. Study of handwriting'\n",
            " 'BF908-940:The hand. Palmistry'\n",
            " 'BF1001-1045:Psychic research. Psychology of the conscious.'\n",
            " 'BF1048-1108:Hallucinations. Sleep. Dreaming. Visions'\n",
            " 'BF1111-1156:Hypnotism. Suggestions. Mesmerism. Subliminal Projection'\n",
            " 'BF1161-1171:Telepathy. Mind reading. Thought transference'\n",
            " 'BF1172-1227:Parapsychology' 'BF1228-1389:Spiritualism'\n",
            " 'BF1404-1443:Occult sciences'\n",
            " 'BF1444-1486:Ghosts. Apparitions. Hauntings'\n",
            " 'BF1487-1500:Occult sciences'\n",
            " 'BF1501-1561:Demonology. Satanism. Possession' 'BF1562-1584:Witchcraft'\n",
            " 'BF1585-1623:Magic. Hermetics. Necromancy' 'BF1624-1650:Occult sciences'\n",
            " 'BF1651-1729:Astrology' 'BF1730-1744:Occult sciences'\n",
            " 'BF1745-1779:Oracles. Sibyls. Diviniations'\n",
            " 'BF1783-1815:Seers. Prophets. Prophecies' 'BF1845-1891:Fortune-telling'\n",
            " 'BF1892-2049:Occult sciences'\n",
            " 'BF2050-2055:Human-alien encounters. Contact between humans and extraterrestials'\n",
            " 'BF2056-end:Occult sciences']\n"
          ]
        }
      ],
      "source": [
        "labels = pd.unique(df_raw[\"Call_Number\"])\n",
        "print(labels)\n",
        "labels_dict = {}\n",
        "for i in range(len(labels)):\n",
        "  labels_dict[i] = labels[i]"
      ]
    },
    {
      "cell_type": "code",
      "execution_count": null,
      "metadata": {
        "id": "VDBkHItCFba1"
      },
      "outputs": [],
      "source": [
        "df_raw.Call_Number = pd.Categorical(df_raw.Call_Number) # Encode values of call numbers\n",
        "df_raw['Call_Number'] = df_raw.Call_Number.cat.codes # Encode \n",
        "df_raw = df_raw.drop('ID', axis=1) # Drop ID column\n",
        "df_raw['Title_length'] = df_raw['Title'].apply(lambda x: len(x.split()))  # Get length of each title"
      ]
    },
    {
      "cell_type": "code",
      "execution_count": null,
      "metadata": {
        "colab": {
          "base_uri": "https://localhost:8080/"
        },
        "id": "MWk8DH41Gl0S",
        "outputId": "f93ecdd5-6a3e-4485-ca63-8aef7ce9849c"
      },
      "outputs": [
        {
          "name": "stdout",
          "output_type": "stream",
          "text": [
            "8.494868686868687\n"
          ]
        }
      ],
      "source": [
        "mean_len = np.mean(df_raw['Title_length'])\n",
        "print(mean_len)"
      ]
    },
    {
      "cell_type": "code",
      "execution_count": null,
      "metadata": {
        "id": "TT50HrvyHJ99"
      },
      "outputs": [],
      "source": [
        "#count number of occurences of each word\n",
        "counts = Counter()\n",
        "for index, row in df_raw.iterrows():\n",
        "    counts.update(tokenize(row['Title']))"
      ]
    },
    {
      "cell_type": "code",
      "execution_count": null,
      "metadata": {
        "colab": {
          "base_uri": "https://localhost:8080/"
        },
        "id": "f7xKZJyyHPQB",
        "outputId": "769c8328-cb03-4da0-a2fc-187140c2efcb"
      },
      "outputs": [
        {
          "name": "stdout",
          "output_type": "stream",
          "text": [
            "num_words before: 21114\n",
            "num_words after: 9570\n"
          ]
        }
      ],
      "source": [
        "# deleting infrequent words\n",
        "print(\"num_words before:\",len(counts.keys()))\n",
        "for word in list(counts):\n",
        "    if counts[word] < 2:\n",
        "        del counts[word]\n",
        "print(\"num_words after:\",len(counts.keys()))"
      ]
    },
    {
      "cell_type": "code",
      "execution_count": null,
      "metadata": {
        "id": "_HkKCMJ8HSPP"
      },
      "outputs": [],
      "source": [
        "# creating vocabulary\n",
        "vocab2index = {\"\":0, \"UNK\":1}\n",
        "words = [\"\", \"UNK\"]\n",
        "for word in counts:\n",
        "    vocab2index[word] = len(words)\n",
        "    words.append(word)"
      ]
    },
    {
      "cell_type": "code",
      "execution_count": null,
      "metadata": {
        "colab": {
          "base_uri": "https://localhost:8080/",
          "height": 392
        },
        "id": "P8JSlDbxHUtJ",
        "outputId": "5aeb0cd1-7531-4585-9828-528a5b7629a7"
      },
      "outputs": [
        {
          "name": "stderr",
          "output_type": "stream",
          "text": [
            "/usr/local/lib/python3.7/dist-packages/ipykernel_launcher.py:1: VisibleDeprecationWarning: Creating an ndarray from ragged nested sequences (which is a list-or-tuple of lists-or-tuples-or ndarrays with different lengths or shapes) is deprecated. If you meant to do this, you must specify 'dtype=object' when creating the ndarray.\n",
            "  \"\"\"Entry point for launching an IPython kernel.\n"
          ]
        },
        {
          "data": {
            "text/html": [
              "\n",
              "  <div id=\"df-a49aa966-004b-4833-aeb4-e9114ebc63cc\">\n",
              "    <div class=\"colab-df-container\">\n",
              "      <div>\n",
              "<style scoped>\n",
              "    .dataframe tbody tr th:only-of-type {\n",
              "        vertical-align: middle;\n",
              "    }\n",
              "\n",
              "    .dataframe tbody tr th {\n",
              "        vertical-align: top;\n",
              "    }\n",
              "\n",
              "    .dataframe thead th {\n",
              "        text-align: right;\n",
              "    }\n",
              "</style>\n",
              "<table border=\"1\" class=\"dataframe\">\n",
              "  <thead>\n",
              "    <tr style=\"text-align: right;\">\n",
              "      <th></th>\n",
              "      <th>Title</th>\n",
              "      <th>Call_Number</th>\n",
              "      <th>Title_length</th>\n",
              "      <th>encoded</th>\n",
              "    </tr>\n",
              "  </thead>\n",
              "  <tbody>\n",
              "    <tr>\n",
              "      <th>0</th>\n",
              "      <td>advances in descriptive psychology official an...</td>\n",
              "      <td>0</td>\n",
              "      <td>13</td>\n",
              "      <td>[[2, 3, 4, 5, 6, 7, 8, 9, 10, 11, 12, 4, 5, 0,...</td>\n",
              "    </tr>\n",
              "    <tr>\n",
              "      <th>1</th>\n",
              "      <td>advances in descriptive psychology official an...</td>\n",
              "      <td>0</td>\n",
              "      <td>13</td>\n",
              "      <td>[[2, 3, 4, 5, 6, 7, 8, 9, 10, 11, 12, 4, 5, 0,...</td>\n",
              "    </tr>\n",
              "    <tr>\n",
              "      <th>2</th>\n",
              "      <td>advances in descriptive psychology official an...</td>\n",
              "      <td>0</td>\n",
              "      <td>13</td>\n",
              "      <td>[[2, 3, 4, 5, 6, 7, 8, 9, 10, 11, 12, 4, 5, 0,...</td>\n",
              "    </tr>\n",
              "    <tr>\n",
              "      <th>3</th>\n",
              "      <td>advances in descriptive psychology official an...</td>\n",
              "      <td>0</td>\n",
              "      <td>13</td>\n",
              "      <td>[[2, 3, 4, 5, 6, 7, 8, 9, 10, 11, 12, 4, 5, 0,...</td>\n",
              "    </tr>\n",
              "    <tr>\n",
              "      <th>4</th>\n",
              "      <td>duke university psychological monographs</td>\n",
              "      <td>0</td>\n",
              "      <td>4</td>\n",
              "      <td>[[13, 14, 15, 16, 0, 0, 0, 0, 0, 0, 0, 0, 0, 0...</td>\n",
              "    </tr>\n",
              "  </tbody>\n",
              "</table>\n",
              "</div>\n",
              "      <button class=\"colab-df-convert\" onclick=\"convertToInteractive('df-a49aa966-004b-4833-aeb4-e9114ebc63cc')\"\n",
              "              title=\"Convert this dataframe to an interactive table.\"\n",
              "              style=\"display:none;\">\n",
              "        \n",
              "  <svg xmlns=\"http://www.w3.org/2000/svg\" height=\"24px\"viewBox=\"0 0 24 24\"\n",
              "       width=\"24px\">\n",
              "    <path d=\"M0 0h24v24H0V0z\" fill=\"none\"/>\n",
              "    <path d=\"M18.56 5.44l.94 2.06.94-2.06 2.06-.94-2.06-.94-.94-2.06-.94 2.06-2.06.94zm-11 1L8.5 8.5l.94-2.06 2.06-.94-2.06-.94L8.5 2.5l-.94 2.06-2.06.94zm10 10l.94 2.06.94-2.06 2.06-.94-2.06-.94-.94-2.06-.94 2.06-2.06.94z\"/><path d=\"M17.41 7.96l-1.37-1.37c-.4-.4-.92-.59-1.43-.59-.52 0-1.04.2-1.43.59L10.3 9.45l-7.72 7.72c-.78.78-.78 2.05 0 2.83L4 21.41c.39.39.9.59 1.41.59.51 0 1.02-.2 1.41-.59l7.78-7.78 2.81-2.81c.8-.78.8-2.07 0-2.86zM5.41 20L4 18.59l7.72-7.72 1.47 1.35L5.41 20z\"/>\n",
              "  </svg>\n",
              "      </button>\n",
              "      \n",
              "  <style>\n",
              "    .colab-df-container {\n",
              "      display:flex;\n",
              "      flex-wrap:wrap;\n",
              "      gap: 12px;\n",
              "    }\n",
              "\n",
              "    .colab-df-convert {\n",
              "      background-color: #E8F0FE;\n",
              "      border: none;\n",
              "      border-radius: 50%;\n",
              "      cursor: pointer;\n",
              "      display: none;\n",
              "      fill: #1967D2;\n",
              "      height: 32px;\n",
              "      padding: 0 0 0 0;\n",
              "      width: 32px;\n",
              "    }\n",
              "\n",
              "    .colab-df-convert:hover {\n",
              "      background-color: #E2EBFA;\n",
              "      box-shadow: 0px 1px 2px rgba(60, 64, 67, 0.3), 0px 1px 3px 1px rgba(60, 64, 67, 0.15);\n",
              "      fill: #174EA6;\n",
              "    }\n",
              "\n",
              "    [theme=dark] .colab-df-convert {\n",
              "      background-color: #3B4455;\n",
              "      fill: #D2E3FC;\n",
              "    }\n",
              "\n",
              "    [theme=dark] .colab-df-convert:hover {\n",
              "      background-color: #434B5C;\n",
              "      box-shadow: 0px 1px 3px 1px rgba(0, 0, 0, 0.15);\n",
              "      filter: drop-shadow(0px 1px 2px rgba(0, 0, 0, 0.3));\n",
              "      fill: #FFFFFF;\n",
              "    }\n",
              "  </style>\n",
              "\n",
              "      <script>\n",
              "        const buttonEl =\n",
              "          document.querySelector('#df-a49aa966-004b-4833-aeb4-e9114ebc63cc button.colab-df-convert');\n",
              "        buttonEl.style.display =\n",
              "          google.colab.kernel.accessAllowed ? 'block' : 'none';\n",
              "\n",
              "        async function convertToInteractive(key) {\n",
              "          const element = document.querySelector('#df-a49aa966-004b-4833-aeb4-e9114ebc63cc');\n",
              "          const dataTable =\n",
              "            await google.colab.kernel.invokeFunction('convertToInteractive',\n",
              "                                                     [key], {});\n",
              "          if (!dataTable) return;\n",
              "\n",
              "          const docLinkHtml = 'Like what you see? Visit the ' +\n",
              "            '<a target=\"_blank\" href=https://colab.research.google.com/notebooks/data_table.ipynb>data table notebook</a>'\n",
              "            + ' to learn more about interactive tables.';\n",
              "          element.innerHTML = '';\n",
              "          dataTable['output_type'] = 'display_data';\n",
              "          await google.colab.output.renderOutput(dataTable, element);\n",
              "          const docLink = document.createElement('div');\n",
              "          docLink.innerHTML = docLinkHtml;\n",
              "          element.appendChild(docLink);\n",
              "        }\n",
              "      </script>\n",
              "    </div>\n",
              "  </div>\n",
              "  "
            ],
            "text/plain": [
              "                                               Title  Call_Number  \\\n",
              "0  advances in descriptive psychology official an...            0   \n",
              "1  advances in descriptive psychology official an...            0   \n",
              "2  advances in descriptive psychology official an...            0   \n",
              "3  advances in descriptive psychology official an...            0   \n",
              "4           duke university psychological monographs            0   \n",
              "\n",
              "   Title_length                                            encoded  \n",
              "0            13  [[2, 3, 4, 5, 6, 7, 8, 9, 10, 11, 12, 4, 5, 0,...  \n",
              "1            13  [[2, 3, 4, 5, 6, 7, 8, 9, 10, 11, 12, 4, 5, 0,...  \n",
              "2            13  [[2, 3, 4, 5, 6, 7, 8, 9, 10, 11, 12, 4, 5, 0,...  \n",
              "3            13  [[2, 3, 4, 5, 6, 7, 8, 9, 10, 11, 12, 4, 5, 0,...  \n",
              "4             4  [[13, 14, 15, 16, 0, 0, 0, 0, 0, 0, 0, 0, 0, 0...  "
            ]
          },
          "execution_count": 13,
          "metadata": {},
          "output_type": "execute_result"
        }
      ],
      "source": [
        "df_raw['encoded'] = df_raw['Title'].apply(lambda x: np.array(encode_sentence(x,vocab2index )))\n",
        "df_raw.head()"
      ]
    },
    {
      "cell_type": "code",
      "execution_count": null,
      "metadata": {
        "colab": {
          "base_uri": "https://localhost:8080/"
        },
        "id": "8gQtjmfuHhu5",
        "outputId": "05bae163-3002-4977-ed74-ca07f4d5e1af"
      },
      "outputs": [
        {
          "data": {
            "text/plain": [
              "Counter({0: 1265,\n",
              "         1: 370,\n",
              "         2: 253,\n",
              "         3: 139,\n",
              "         4: 32,\n",
              "         5: 12,\n",
              "         6: 500,\n",
              "         7: 305,\n",
              "         8: 126,\n",
              "         9: 1,\n",
              "         10: 129,\n",
              "         11: 328,\n",
              "         12: 431,\n",
              "         13: 21,\n",
              "         14: 283,\n",
              "         15: 1741,\n",
              "         16: 1,\n",
              "         17: 186,\n",
              "         18: 132,\n",
              "         19: 107,\n",
              "         20: 158,\n",
              "         21: 75,\n",
              "         22: 248,\n",
              "         23: 167,\n",
              "         24: 26,\n",
              "         25: 136,\n",
              "         26: 8,\n",
              "         27: 5,\n",
              "         28: 45,\n",
              "         29: 4,\n",
              "         30: 374,\n",
              "         31: 1,\n",
              "         32: 4316,\n",
              "         33: 752,\n",
              "         34: 117,\n",
              "         35: 1719,\n",
              "         36: 4,\n",
              "         37: 204,\n",
              "         38: 1938,\n",
              "         39: 253,\n",
              "         40: 2069,\n",
              "         41: 318,\n",
              "         42: 228,\n",
              "         43: 2,\n",
              "         44: 477,\n",
              "         45: 1047,\n",
              "         46: 158,\n",
              "         47: 2852,\n",
              "         48: 10,\n",
              "         49: 398,\n",
              "         50: 84,\n",
              "         51: 106,\n",
              "         52: 59,\n",
              "         53: 30})"
            ]
          },
          "execution_count": 14,
          "metadata": {},
          "output_type": "execute_result"
        }
      ],
      "source": [
        "#check how balanced the dataset is\n",
        "Counter(df_raw['Call_Number'])"
      ]
    },
    {
      "cell_type": "markdown",
      "metadata": {
        "id": "qAOzuzIrWYfg"
      },
      "source": [
        "# Create Training and Test Sets from dataset (Dataset, Dataloader)\n"
      ]
    },
    {
      "cell_type": "code",
      "execution_count": null,
      "metadata": {
        "id": "PaLkSJl2Hl1P"
      },
      "outputs": [],
      "source": [
        "X = list(df_raw['encoded'])\n",
        "y = list(df_raw['Call_Number'])\n",
        "from sklearn.model_selection import train_test_split\n",
        "X_train, X_valid, y_train, y_valid = train_test_split(X, y, test_size=0.2)"
      ]
    },
    {
      "cell_type": "code",
      "execution_count": null,
      "metadata": {
        "id": "kQ-egdRsHrp7"
      },
      "outputs": [],
      "source": [
        "class ReviewsDataset(Dataset):\n",
        "    def __init__(self, X, Y):\n",
        "        self.X = X\n",
        "        self.y = Y\n",
        "        \n",
        "    def __len__(self):\n",
        "        return len(self.y)\n",
        "    \n",
        "    def __getitem__(self, idx):\n",
        "        return torch.from_numpy(self.X[idx][0].astype(np.int32)), self.y[idx], self.X[idx][1]"
      ]
    },
    {
      "cell_type": "code",
      "execution_count": null,
      "metadata": {
        "id": "YVI4GvFCHvMl"
      },
      "outputs": [],
      "source": [
        "train_ds = ReviewsDataset(X_train, y_train)\n",
        "valid_ds = ReviewsDataset(X_valid, y_valid)"
      ]
    },
    {
      "cell_type": "code",
      "execution_count": null,
      "metadata": {
        "id": "SWlqEhZMHzae"
      },
      "outputs": [],
      "source": [
        "batch_size = 1000\n",
        "vocab_size = len(words)\n",
        "train_dl = DataLoader(train_ds, batch_size=batch_size, shuffle=True)\n",
        "val_dl = DataLoader(valid_ds, batch_size=batch_size)"
      ]
    },
    {
      "cell_type": "code",
      "execution_count": null,
      "metadata": {
        "colab": {
          "base_uri": "https://localhost:8080/"
        },
        "id": "87tPoMB_bpJz",
        "outputId": "bcdbe2bd-2d15-46c4-c1cc-1106f0e0fc65"
      },
      "outputs": [
        {
          "name": "stdout",
          "output_type": "stream",
          "text": [
            "Number of output classes:  54\n"
          ]
        }
      ],
      "source": [
        "num_outputs = len(labels)\n",
        "print(\"Number of output classes: \", num_outputs)"
      ]
    },
    {
      "cell_type": "markdown",
      "metadata": {
        "id": "7wPoDoH5V-zp"
      },
      "source": [
        "# Model Set-Up Code\n",
        "\n"
      ]
    },
    {
      "cell_type": "code",
      "execution_count": null,
      "metadata": {
        "id": "0wr4d0XWHxiD"
      },
      "outputs": [],
      "source": [
        "def train_model(model, epochs=10, lr=0.001):\n",
        "    parameters = filter(lambda p: p.requires_grad, model.parameters())\n",
        "    optimizer = torch.optim.Adam(parameters, lr=lr)\n",
        "\n",
        "    for i in range(epochs):\n",
        "        model.train()\n",
        "        sum_loss = 0.0\n",
        "        total = 0\n",
        "        for x, y, l in train_dl:\n",
        "            x = x.long()\n",
        "            y = y.long()\n",
        "\n",
        "            y_pred = model(x, l)\n",
        "            optimizer.zero_grad()\n",
        "            loss = F.cross_entropy(y_pred, y)\n",
        "            loss.backward()\n",
        "            optimizer.step()\n",
        "            sum_loss += loss.item()*y.shape[0]\n",
        "            total += y.shape[0]\n",
        "        val_loss, val_acc, val_rmse = validation_metrics(model, val_dl)\n",
        "        print(\"Epoch# \", i)\n",
        "        print(\"train loss %.3f, val loss %.3f, val accuracy %.3f, and val rmse %.3f\" % (sum_loss/total, val_loss, val_acc, val_rmse))\n",
        "\n",
        "def validation_metrics (model, valid_dl):\n",
        "    model.eval()\n",
        "    correct = 0\n",
        "    total = 0\n",
        "    sum_loss = 0.0\n",
        "    sum_rmse = 0.0\n",
        "    for x, y, l in valid_dl:\n",
        "        x = x.long()\n",
        "        y = y.long()\n",
        "        y_hat = model(x, l)\n",
        "        loss = F.cross_entropy(y_hat, y)\n",
        "        pred = torch.max(y_hat, 1)[1]\n",
        "        correct += (pred == y).float().sum()\n",
        "        total += y.shape[0]\n",
        "        sum_loss += loss.item()*y.shape[0]\n",
        "        sum_rmse += np.sqrt(mean_squared_error(pred, y.unsqueeze(-1)))*y.shape[0]\n",
        "    return sum_loss/total, correct/total, sum_rmse/total"
      ]
    },
    {
      "cell_type": "code",
      "execution_count": null,
      "metadata": {
        "id": "id7krquSIUxj"
      },
      "outputs": [],
      "source": [
        "class LSTM_variable_input(torch.nn.Module) :\n",
        "    def __init__(self, vocab_size, embedding_dim, hidden_dim) :\n",
        "        super().__init__()\n",
        "        self.hidden_dim = hidden_dim\n",
        "        self.dropout = nn.Dropout(0.3)\n",
        "        self.embeddings = nn.Embedding(vocab_size, embedding_dim, padding_idx=0)\n",
        "        self.lstm = nn.LSTM(embedding_dim, hidden_dim, batch_first=True)\n",
        "        self.linear = nn.Linear(hidden_dim, num_outputs)\n",
        "        \n",
        "    def forward(self, x, s):\n",
        "        x = self.embeddings(x)\n",
        "        x = self.dropout(x)\n",
        "        x_pack = pack_padded_sequence(x, s, batch_first=True, enforce_sorted=False)\n",
        "        out_pack, (ht, ct) = self.lstm(x_pack)\n",
        "        out = self.linear(ht[-1])\n",
        "        return out"
      ]
    },
    {
      "cell_type": "markdown",
      "metadata": {
        "id": "pJJfSUyUWEEG"
      },
      "source": [
        "# Initialize and Train Model"
      ]
    },
    {
      "cell_type": "code",
      "execution_count": null,
      "metadata": {
        "id": "Yr3vCOdUIVnT"
      },
      "outputs": [],
      "source": [
        "import gc\n",
        "\n",
        "if 'model' in locals():\n",
        "  del model\n",
        "\n",
        "model = LSTM_variable_input(vocab_size, 50, 50)"
      ]
    },
    {
      "cell_type": "code",
      "execution_count": null,
      "metadata": {
        "colab": {
          "base_uri": "https://localhost:8080/"
        },
        "id": "lUl_uDRXIWN_",
        "outputId": "8b76d4e2-886d-4ce7-e571-b2a3e6828d70"
      },
      "outputs": [
        {
          "name": "stdout",
          "output_type": "stream",
          "text": [
            "Epoch#  0\n",
            "train loss 3.047, val loss 2.693, val accuracy 0.288, and val rmse 14.912\n",
            "Epoch#  1\n",
            "train loss 2.502, val loss 2.420, val accuracy 0.379, and val rmse 15.205\n",
            "Epoch#  2\n",
            "train loss 2.209, val loss 2.256, val accuracy 0.420, and val rmse 14.462\n",
            "Epoch#  3\n",
            "train loss 2.037, val loss 2.233, val accuracy 0.441, and val rmse 14.716\n",
            "Epoch#  4\n",
            "train loss 1.928, val loss 2.160, val accuracy 0.462, and val rmse 13.772\n",
            "Epoch#  5\n",
            "train loss 1.840, val loss 2.110, val accuracy 0.479, and val rmse 14.492\n",
            "Epoch#  6\n",
            "train loss 1.782, val loss 2.080, val accuracy 0.484, and val rmse 13.897\n",
            "Epoch#  7\n",
            "train loss 1.718, val loss 2.052, val accuracy 0.492, and val rmse 14.090\n",
            "Epoch#  8\n",
            "train loss 1.680, val loss 2.031, val accuracy 0.498, and val rmse 13.987\n",
            "Epoch#  9\n",
            "train loss 1.658, val loss 2.066, val accuracy 0.500, and val rmse 13.624\n",
            "Epoch#  10\n",
            "train loss 1.629, val loss 2.043, val accuracy 0.501, and val rmse 13.870\n",
            "Epoch#  11\n",
            "train loss 1.610, val loss 2.053, val accuracy 0.509, and val rmse 14.003\n",
            "Epoch#  12\n",
            "train loss 1.601, val loss 2.052, val accuracy 0.513, and val rmse 13.474\n",
            "Epoch#  13\n",
            "train loss 1.580, val loss 2.025, val accuracy 0.517, and val rmse 13.404\n",
            "Epoch#  14\n",
            "train loss 1.559, val loss 2.016, val accuracy 0.518, and val rmse 13.511\n",
            "Epoch#  15\n",
            "train loss 1.535, val loss 2.019, val accuracy 0.521, and val rmse 13.193\n",
            "Epoch#  16\n",
            "train loss 1.514, val loss 2.020, val accuracy 0.523, and val rmse 13.398\n",
            "Epoch#  17\n",
            "train loss 1.507, val loss 2.010, val accuracy 0.526, and val rmse 13.563\n",
            "Epoch#  18\n",
            "train loss 1.494, val loss 2.032, val accuracy 0.521, and val rmse 13.677\n",
            "Epoch#  19\n",
            "train loss 1.472, val loss 2.015, val accuracy 0.527, and val rmse 13.864\n",
            "Epoch#  20\n",
            "train loss 1.457, val loss 2.015, val accuracy 0.528, and val rmse 13.446\n",
            "Epoch#  21\n",
            "train loss 1.464, val loss 2.021, val accuracy 0.528, and val rmse 13.670\n",
            "Epoch#  22\n",
            "train loss 1.457, val loss 2.016, val accuracy 0.537, and val rmse 13.484\n",
            "Epoch#  23\n",
            "train loss 1.459, val loss 2.017, val accuracy 0.529, and val rmse 13.481\n",
            "Epoch#  24\n",
            "train loss 1.428, val loss 2.002, val accuracy 0.536, and val rmse 13.510\n",
            "Epoch#  25\n",
            "train loss 1.420, val loss 2.006, val accuracy 0.533, and val rmse 13.600\n",
            "Epoch#  26\n",
            "train loss 1.425, val loss 1.997, val accuracy 0.540, and val rmse 13.385\n",
            "Epoch#  27\n",
            "train loss 1.413, val loss 1.993, val accuracy 0.544, and val rmse 13.245\n",
            "Epoch#  28\n",
            "train loss 1.407, val loss 2.002, val accuracy 0.543, and val rmse 13.197\n",
            "Epoch#  29\n",
            "train loss 1.379, val loss 2.003, val accuracy 0.543, and val rmse 13.412\n"
          ]
        }
      ],
      "source": [
        "train_model(model, epochs=30, lr=0.1)"
      ]
    },
    {
      "cell_type": "markdown",
      "metadata": {
        "id": "zGVkB6HNVzpc"
      },
      "source": [
        "# Run a separate test on randomly selected values from the dataset\n",
        "\n",
        "In the future, this should be run on test values from the e-book dataset."
      ]
    },
    {
      "cell_type": "code",
      "execution_count": null,
      "metadata": {
        "id": "y8qshLmdRFLS"
      },
      "outputs": [],
      "source": [
        "# Set number of random tests to run\n",
        "test_size = 50"
      ]
    },
    {
      "cell_type": "code",
      "execution_count": null,
      "metadata": {
        "colab": {
          "base_uri": "https://localhost:8080/"
        },
        "id": "v5beFV3PRZQ_",
        "outputId": "3ce62652-b5c5-4058-b8a2-d0755eb19ecb"
      },
      "outputs": [
        {
          "name": "stdout",
          "output_type": "stream",
          "text": [
            "[15873, 3184, 17383, 13599, 19428, 11234, 24527, 7991, 5004, 9939, 12939, 17143, 21722, 6788, 24124, 7708, 11240, 11277, 19289, 14868, 14118, 12069, 1179, 336, 4142, 17687, 24423, 13941, 3851, 24022, 3667, 24132, 21778, 2950, 20089, 5197, 19072, 19941, 3906, 14859, 1873, 17548, 906, 11192, 19529, 3509, 9704, 13011, 22480, 12955]\n"
          ]
        }
      ],
      "source": [
        "# Get random sample of indicies based on size above\n",
        "\n",
        "all_indicies = df_raw.index\n",
        "all_indicies = all_indicies.tolist()\n",
        "index_count = len(all_indicies)\n",
        "random_test_indicies = random.sample(population=all_indicies, k=test_size)\n",
        "print(random_test_indicies)"
      ]
    },
    {
      "cell_type": "code",
      "execution_count": null,
      "metadata": {
        "id": "oMFEsyC5PEjd"
      },
      "outputs": [],
      "source": [
        "# Get the correct input output values from dataset\n",
        "\n",
        "check_x = []\n",
        "check_y = []\n",
        "\n",
        "for index in random_test_indicies:\n",
        "  check_x.append(df_raw['encoded'][index])\n",
        "  check_y.append(df_raw['Call_Number'][index])\n",
        "\n",
        "check_ds = ReviewsDataset(check_x, check_y)"
      ]
    },
    {
      "cell_type": "code",
      "execution_count": null,
      "metadata": {
        "id": "Ec6pOEfNLW4O"
      },
      "outputs": [],
      "source": [
        "# Make Dataloader for random test values\n",
        "\n",
        "batch_size = 1\n",
        "vocab_size = len(words)\n",
        "check_dl = DataLoader(check_ds, batch_size=batch_size, shuffle=True)"
      ]
    },
    {
      "cell_type": "code",
      "execution_count": null,
      "metadata": {
        "colab": {
          "base_uri": "https://localhost:8080/"
        },
        "id": "B6DBoxOsP1jb",
        "outputId": "c5760f9b-cb2f-4a44-ba6f-fdfdf9f9cd48"
      },
      "outputs": [
        {
          "name": "stdout",
          "output_type": "stream",
          "text": [
            "\n",
            "\n",
            "Test # 0\n",
            "Original Book Title:  advances in descriptive psychology official annual publication of the society for descriptive psychology\n",
            "Expected book Classification:  BF1730-1744:Occult sciences\n",
            "Predicted Book Classification:  BF1730-1744:Occult sciences\n",
            "Model successfully identified correct category\n",
            "\n",
            "\n",
            "Test # 1\n",
            "Original Book Title:  advances in descriptive psychology official annual publication of the society for descriptive psychology\n",
            "Expected book Classification:  BF1048-1108:Hallucinations. Sleep. Dreaming. Visions\n",
            "Predicted Book Classification:  BF1228-1389:Spiritualism\n",
            "Incorrect labeling\n",
            "\n",
            "\n",
            "Test # 2\n",
            "Original Book Title:  advances in descriptive psychology official annual publication of the society for descriptive psychology\n",
            "Expected book Classification:  BF1444-1486:Ghosts. Apparitions. Hauntings\n",
            "Predicted Book Classification:  BF1444-1486:Ghosts. Apparitions. Hauntings\n",
            "Model successfully identified correct category\n",
            "\n",
            "\n",
            "Test # 3\n",
            "Original Book Title:  advances in descriptive psychology official annual publication of the society for descriptive psychology\n",
            "Expected book Classification:  BF840-885:Physiognomy. Phrenology\n",
            "Predicted Book Classification:  BF1730-1744:Occult sciences\n",
            "Incorrect labeling\n",
            "\n",
            "\n",
            "Test # 4\n",
            "Original Book Title:  duke university psychological monographs\n",
            "Expected book Classification:  BF1444-1486:Ghosts. Apparitions. Hauntings\n",
            "Predicted Book Classification:  BF1444-1486:Ghosts. Apparitions. Hauntings\n",
            "Model successfully identified correct category\n",
            "\n",
            "\n",
            "Test # 5\n",
            "Original Book Title:  authors guide to journals in psychology psychiatry social work\n",
            "Expected book Classification:  BF1048-1108:Hallucinations. Sleep. Dreaming. Visions\n",
            "Predicted Book Classification:  BF1-37:Psychology\n",
            "Incorrect labeling\n",
            "\n",
            "\n",
            "Test # 6\n",
            "Original Book Title:  authors guide to journals in psychology psychiatry social work\n",
            "Expected book Classification:  BF511-593:Affection. Feeling. Emotion\n",
            "Predicted Book Classification:  BF1-37:Psychology\n",
            "Incorrect labeling\n",
            "\n",
            "\n",
            "Test # 7\n",
            "Original Book Title:  psycbooks books chapters in psychology\n",
            "Expected book Classification:  BF501-505:Motivation\n",
            "Predicted Book Classification:  BF199-202:Psychology\n",
            "Incorrect labeling\n",
            "\n",
            "\n",
            "Test # 8\n",
            "Original Book Title:  psycbooks books chapters in psychology\n",
            "Expected book Classification:  BF1228-1389:Spiritualism\n",
            "Predicted Book Classification:  BF1444-1486:Ghosts. Apparitions. Hauntings\n",
            "Incorrect labeling\n",
            "\n",
            "\n",
            "Test # 9\n",
            "Original Book Title:  psycbooks books chapters in psychology\n",
            "Expected book Classification:  BF1444-1486:Ghosts. Apparitions. Hauntings\n",
            "Predicted Book Classification:  BF1444-1486:Ghosts. Apparitions. Hauntings\n",
            "Model successfully identified correct category\n",
            "\n",
            "\n",
            "Test # 10\n",
            "Original Book Title:  psycbooks books chapters in psychology\n",
            "Expected book Classification:  BF908-940:The hand. Palmistry\n",
            "Predicted Book Classification:  BF908-940:The hand. Palmistry\n",
            "Model successfully identified correct category\n",
            "\n",
            "\n",
            "Test # 11\n",
            "Original Book Title:  psycbooks books chapters in psychology\n",
            "Expected book Classification:  BF65-172:Psychology\n",
            "Predicted Book Classification:  BF300-308:Psychology\n",
            "Incorrect labeling\n",
            "\n",
            "\n",
            "Test # 12\n",
            "Original Book Title:  the psychological review monograph supplement\n",
            "Expected book Classification:  BF1730-1744:Occult sciences\n",
            "Predicted Book Classification:  BF1730-1744:Occult sciences\n",
            "Model successfully identified correct category\n",
            "\n",
            "\n",
            "Test # 13\n",
            "Original Book Title:  the psychological review series of monograph supplements\n",
            "Expected book Classification:  BF1730-1744:Occult sciences\n",
            "Predicted Book Classification:  BF1730-1744:Occult sciences\n",
            "Model successfully identified correct category\n",
            "\n",
            "\n",
            "Test # 14\n",
            "Original Book Title:  the psychological review monograph supplements\n",
            "Expected book Classification:  BF1048-1108:Hallucinations. Sleep. Dreaming. Visions\n",
            "Predicted Book Classification:  BF1048-1108:Hallucinations. Sleep. Dreaming. Visions\n",
            "Model successfully identified correct category\n",
            "\n",
            "\n",
            "Test # 15\n",
            "Original Book Title:  the psychological review psychological monographs\n",
            "Expected book Classification:  BF1444-1486:Ghosts. Apparitions. Hauntings\n",
            "Predicted Book Classification:  BF1444-1486:Ghosts. Apparitions. Hauntings\n",
            "Model successfully identified correct category\n",
            "\n",
            "\n",
            "Test # 16\n",
            "Original Book Title:  the use of modified block designs in the evaluation and training of the braininjured\n",
            "Expected book Classification:  BF608-635:Will. Volition. Choice. Control\n",
            "Predicted Book Classification:  BF1585-1623:Magic. Hermetics. Necromancy\n",
            "Incorrect labeling\n",
            "\n",
            "\n",
            "Test # 17\n",
            "Original Book Title:  prejudice and racial identity among white latterday saint college students an exploratory study\n",
            "Expected book Classification:  BF1501-1561:Demonology. Satanism. Possession\n",
            "Predicted Book Classification:  BF1501-1561:Demonology. Satanism. Possession\n",
            "Model successfully identified correct category\n",
            "\n",
            "\n",
            "Test # 18\n",
            "Original Book Title:  psychology survey\n",
            "Expected book Classification:  BF908-940:The hand. Palmistry\n",
            "Predicted Book Classification:  BF511-593:Affection. Feeling. Emotion\n",
            "Incorrect labeling\n",
            "\n",
            "\n",
            "Test # 19\n",
            "Original Book Title:  psychology survey\n",
            "Expected book Classification:  BF1651-1729:Astrology\n",
            "Predicted Book Classification:  BF1651-1729:Astrology\n",
            "Model successfully identified correct category\n",
            "\n",
            "\n",
            "Test # 20\n",
            "Original Book Title:  psychology survey\n",
            "Expected book Classification:  BF1228-1389:Spiritualism\n",
            "Predicted Book Classification:  BF1228-1389:Spiritualism\n",
            "Model successfully identified correct category\n",
            "\n",
            "\n",
            "Test # 21\n",
            "Original Book Title:  psychology survey\n",
            "Expected book Classification:  BF1228-1389:Spiritualism\n",
            "Predicted Book Classification:  BF1624-1650:Occult sciences\n",
            "Incorrect labeling\n",
            "\n",
            "\n",
            "Test # 22\n",
            "Original Book Title:  psychology survey\n",
            "Expected book Classification:  BF1228-1389:Spiritualism\n",
            "Predicted Book Classification:  BF1228-1389:Spiritualism\n",
            "Model successfully identified correct category\n",
            "\n",
            "\n",
            "Test # 23\n",
            "Original Book Title:  single and multiple solution fiveletter words by ronald olson and ronald schwartz\n",
            "Expected book Classification:  BF1730-1744:Occult sciences\n",
            "Predicted Book Classification:  BF908-940:The hand. Palmistry\n",
            "Incorrect labeling\n",
            "\n",
            "\n",
            "Test # 24\n",
            "Original Book Title:  spring\n",
            "Expected book Classification:  BF1730-1744:Occult sciences\n",
            "Predicted Book Classification:  BF1730-1744:Occult sciences\n",
            "Model successfully identified correct category\n",
            "\n",
            "\n",
            "Test # 25\n",
            "Original Book Title:  spring\n",
            "Expected book Classification:  BF1111-1156:Hypnotism. Suggestions. Mesmerism. Subliminal Projection\n",
            "Predicted Book Classification:  BF908-940:The hand. Palmistry\n",
            "Incorrect labeling\n",
            "\n",
            "\n",
            "Test # 26\n",
            "Original Book Title:  spring\n",
            "Expected book Classification:  BF65-172:Psychology\n",
            "Predicted Book Classification:  BF65-172:Psychology\n",
            "Model successfully identified correct category\n",
            "\n",
            "\n",
            "Test # 27\n",
            "Original Book Title:  spring\n",
            "Expected book Classification:  BF1111-1156:Hypnotism. Suggestions. Mesmerism. Subliminal Projection\n",
            "Predicted Book Classification:  BF1111-1156:Hypnotism. Suggestions. Mesmerism. Subliminal Projection\n",
            "Model successfully identified correct category\n",
            "\n",
            "\n",
            "Test # 28\n",
            "Original Book Title:  spring\n",
            "Expected book Classification:  BF608-635:Will. Volition. Choice. Control\n",
            "Predicted Book Classification:  BF511-593:Affection. Feeling. Emotion\n",
            "Incorrect labeling\n",
            "\n",
            "\n",
            "Test # 29\n",
            "Original Book Title:  spring\n",
            "Expected book Classification:  BF1111-1156:Hypnotism. Suggestions. Mesmerism. Subliminal Projection\n",
            "Predicted Book Classification:  BF1111-1156:Hypnotism. Suggestions. Mesmerism. Subliminal Projection\n",
            "Model successfully identified correct category\n",
            "\n",
            "\n",
            "Test # 30\n",
            "Original Book Title:  spring\n",
            "Expected book Classification:  BF1444-1486:Ghosts. Apparitions. Hauntings\n",
            "Predicted Book Classification:  BF511-593:Affection. Feeling. Emotion\n",
            "Incorrect labeling\n",
            "\n",
            "\n",
            "Test # 31\n",
            "Original Book Title:  spring\n",
            "Expected book Classification:  BF1730-1744:Occult sciences\n",
            "Predicted Book Classification:  BF1730-1744:Occult sciences\n",
            "Model successfully identified correct category\n",
            "\n",
            "\n",
            "Test # 32\n",
            "Original Book Title:  spring\n",
            "Expected book Classification:  BF693-696:Psychology\n",
            "Predicted Book Classification:  BF908-940:The hand. Palmistry\n",
            "Incorrect labeling\n",
            "\n",
            "\n",
            "Test # 33\n",
            "Original Book Title:  liste mondiale des périodiques spécialisés psychologie world list of specialized periodicals psychology\n",
            "Expected book Classification:  BF1-37:Psychology\n",
            "Predicted Book Classification:  BF1444-1486:Ghosts. Apparitions. Hauntings\n",
            "Incorrect labeling\n",
            "\n",
            "\n",
            "Test # 34\n",
            "Original Book Title:  serials in psychology and allied fields\n",
            "Expected book Classification:  BF199-202:Psychology\n",
            "Predicted Book Classification:  BF300-308:Psychology\n",
            "Incorrect labeling\n",
            "\n",
            "\n",
            "Test # 35\n",
            "Original Book Title:  searching image in carrion crows hunting strategy in a predator and some antipredator devices in camouflaged prey with 44 fig 2 colour photographs and 17 tables\n",
            "Expected book Classification:  BF1048-1108:Hallucinations. Sleep. Dreaming. Visions\n",
            "Predicted Book Classification:  BF1624-1650:Occult sciences\n",
            "Incorrect labeling\n",
            "\n",
            "\n",
            "Test # 36\n",
            "Original Book Title:  bibliographie der deutschsprachigen psychologischen literatur\n",
            "Expected book Classification:  BF511-593:Affection. Feeling. Emotion\n",
            "Predicted Book Classification:  BF511-593:Affection. Feeling. Emotion\n",
            "Model successfully identified correct category\n",
            "\n",
            "\n",
            "Test # 37\n",
            "Original Book Title:  bibliographie der deutschsprachigen psychologischen literatur\n",
            "Expected book Classification:  BF908-940:The hand. Palmistry\n",
            "Predicted Book Classification:  BF908-940:The hand. Palmistry\n",
            "Model successfully identified correct category\n",
            "\n",
            "\n",
            "Test # 38\n",
            "Original Book Title:  bylaws and list of officers and members of the american psychological association incorporated\n",
            "Expected book Classification:  BF1111-1156:Hypnotism. Suggestions. Mesmerism. Subliminal Projection\n",
            "Predicted Book Classification:  BF1111-1156:Hypnotism. Suggestions. Mesmerism. Subliminal Projection\n",
            "Model successfully identified correct category\n",
            "\n",
            "\n",
            "Test # 39\n",
            "Original Book Title:  yearbook american psychological association\n",
            "Expected book Classification:  BF1001-1045:Psychic research. Psychology of the conscious.\n",
            "Predicted Book Classification:  BF1444-1486:Ghosts. Apparitions. Hauntings\n",
            "Incorrect labeling\n",
            "\n",
            "\n",
            "Test # 40\n",
            "Original Book Title:  directory american psychological association\n",
            "Expected book Classification:  BF1444-1486:Ghosts. Apparitions. Hauntings\n",
            "Predicted Book Classification:  BF1444-1486:Ghosts. Apparitions. Hauntings\n",
            "Model successfully identified correct category\n",
            "\n",
            "\n",
            "Test # 41\n",
            "Original Book Title:  biographical directory of the american psychological association\n",
            "Expected book Classification:  BF1624-1650:Occult sciences\n",
            "Predicted Book Classification:  BF1228-1389:Spiritualism\n",
            "Incorrect labeling\n",
            "\n",
            "\n",
            "Test # 42\n",
            "Original Book Title:  directory of the american psychological association\n",
            "Expected book Classification:  BF908-940:The hand. Palmistry\n",
            "Predicted Book Classification:  BF1730-1744:Occult sciences\n",
            "Incorrect labeling\n",
            "\n",
            "\n",
            "Test # 43\n",
            "Original Book Title:  bylaws and list of officers and members of the american psychological association incorporated\n",
            "Expected book Classification:  BF1-37:Psychology\n",
            "Predicted Book Classification:  BF1-37:Psychology\n",
            "Model successfully identified correct category\n",
            "\n",
            "\n",
            "Test # 44\n",
            "Original Book Title:  bylaws and list of officers and members of the american psychological association incorporated\n",
            "Expected book Classification:  BF1-37:Psychology\n",
            "Predicted Book Classification:  BF1-37:Psychology\n",
            "Model successfully identified correct category\n",
            "\n",
            "\n",
            "Test # 45\n",
            "Original Book Title:  bylaws and list of officers and members of the american psychological association incorporated\n",
            "Expected book Classification:  BF511-593:Affection. Feeling. Emotion\n",
            "Predicted Book Classification:  BF511-593:Affection. Feeling. Emotion\n",
            "Model successfully identified correct category\n",
            "\n",
            "\n",
            "Test # 46\n",
            "Original Book Title:  bylaws and list of officers and members of the american psychological association incorporated\n",
            "Expected book Classification:  BF1730-1744:Occult sciences\n",
            "Predicted Book Classification:  BF1730-1744:Occult sciences\n",
            "Model successfully identified correct category\n",
            "\n",
            "\n",
            "Test # 47\n",
            "Original Book Title:  yearbook american psychological association\n",
            "Expected book Classification:  BF1228-1389:Spiritualism\n",
            "Predicted Book Classification:  BF1228-1389:Spiritualism\n",
            "Model successfully identified correct category\n",
            "\n",
            "\n",
            "Test # 48\n",
            "Original Book Title:  yearbook american psychological association\n",
            "Expected book Classification:  BF692:Psychology of Sex. Sexual Behavior\n",
            "Predicted Book Classification:  BF231-299:Sensation. Aesthesiology\n",
            "Incorrect labeling\n",
            "\n",
            "\n",
            "Test # 49\n",
            "Original Book Title:  directory american psychological association\n",
            "Expected book Classification:  BF1624-1650:Occult sciences\n",
            "Predicted Book Classification:  BF1-37:Psychology\n",
            "Incorrect labeling\n"
          ]
        }
      ],
      "source": [
        "model.eval()\n",
        "num_correct = 0\n",
        "total_num = test_size\n",
        "\n",
        "for index, (x, y, l) in enumerate(check_dl):\n",
        "  orig_title = df_raw['Title'][index]\n",
        "\n",
        "\n",
        "  model_out = model(x, l)\n",
        "\n",
        "  print(\"\\n\\nTest #\", index)\n",
        "\n",
        "  print(\"Original Book Title: \", orig_title)\n",
        "  print(\"Expected book Classification: \", labels_dict[y.item()])\n",
        "  print(\"Predicted Book Classification: \", labels_dict[torch.argmax(model_out).item()])\n",
        "\n",
        "  if y.item() == torch.argmax(model_out).item():\n",
        "    print(\"Model successfully identified correct category\")\n",
        "    num_correct += 1\n",
        "  else:\n",
        "    print(\"Incorrect labeling\")\n"
      ]
    },
    {
      "cell_type": "code",
      "execution_count": null,
      "metadata": {
        "colab": {
          "base_uri": "https://localhost:8080/"
        },
        "id": "lWXiAiuISYZ2",
        "outputId": "32f968cf-7e84-43e1-837e-cb8725b5cd38"
      },
      "outputs": [
        {
          "name": "stdout",
          "output_type": "stream",
          "text": [
            "FINAL RESULTS: \n",
            "Accuracy =  0.54\n"
          ]
        }
      ],
      "source": [
        "print(\"FINAL RESULTS: \")\n",
        "print(\"Accuracy = \", num_correct/total_num)"
      ]
    }
  ],
  "metadata": {
    "accelerator": "GPU",
    "colab": {
      "collapsed_sections": [],
      "name": "Book_Classification_Prediction.ipynb",
      "provenance": []
    },
    "kernelspec": {
      "display_name": "Python 3",
      "name": "python3"
    },
    "language_info": {
      "name": "python"
    }
  },
  "nbformat": 4,
  "nbformat_minor": 0
}
